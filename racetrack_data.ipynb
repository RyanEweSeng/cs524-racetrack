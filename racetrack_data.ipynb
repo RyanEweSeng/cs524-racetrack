{
 "cells": [
  {
   "cell_type": "code",
   "execution_count": 21,
   "id": "052ec25f",
   "metadata": {},
   "outputs": [
    {
     "name": "stdout",
     "output_type": "stream",
     "text": [
      "[[ 1.00000000e+00 -6.12323400e-17]\n",
      " [ 7.07106781e-01  7.07106781e-01]\n",
      " [-1.22464680e-16  1.00000000e+00]\n",
      " [-1.00000000e+00 -6.12323400e-17]\n",
      " [-1.00000000e+00 -6.12323400e-17]\n",
      " [ 0.00000000e+00 -1.00000000e+00]]\n"
     ]
    }
   ],
   "source": [
    "import numpy as np\n",
    "import math\n",
    "from typing import Union\n",
    "\n",
    "def calc_normal_vectors(psi: np.ndarray) -> np.ndarray:\n",
    "    normvec_normalized = -calc_normal_vectors_ahead(psi)\n",
    "    return normvec_normalized\n",
    "\n",
    "def calc_normal_vectors_ahead(psi: np.ndarray) -> np.ndarray:\n",
    "    tangvec_normalized = calc_tangent_vectors(psi)\n",
    "    normvec_normalized_ahead = np.stack((-tangvec_normalized[:, 1], tangvec_normalized[:, 0]), axis=1)\n",
    "    return normvec_normalized_ahead\n",
    "\n",
    "def calc_tangent_vectors(psi: np.ndarray) -> np.ndarray:\n",
    "    psi_ = np.copy(psi)\n",
    "    psi_ += math.pi / 2\n",
    "    psi_ = normalize_psi(psi_)\n",
    "\n",
    "    tangvec_normalized = np.zeros((psi_.size, 2))\n",
    "    tangvec_normalized[:, 0] = np.cos(psi_)\n",
    "    tangvec_normalized[:, 1] = np.sin(psi_)\n",
    "\n",
    "    return tangvec_normalized\n",
    "\n",
    "def normalize_psi(psi: Union[np.ndarray, float]) -> np.ndarray:\n",
    "    psi_out = np.sign(psi) * np.mod(np.abs(psi), 2 * math.pi)\n",
    "    \n",
    "    if type(psi_out) is np.ndarray:\n",
    "        psi_out[psi_out >= math.pi] -= 2 * math.pi\n",
    "        psi_out[psi_out < -math.pi] += 2 * math.pi\n",
    "    else:\n",
    "        if psi_out >= math.pi:\n",
    "            psi_out -= 2 * math.pi\n",
    "        elif psi_out < -math.pi:\n",
    "            psi_out += 2 * math.pi\n",
    "\n",
    "    return psi_out\n",
    "\n",
    "austin_data = np.genfromtxt('Austin.csv',delimiter=',')\n",
    "austin_data = austin_data[:, 0:2]\n",
    "\n",
    "psi_test = np.array([0.0, math.pi / 4, math.pi / 2, math.pi, -math.pi, -math.pi / 2])\n",
    "print(calc_normal_vectors(psi_test))\n",
    "\n",
    "# norm_vectors = []\n",
    "# for point in austin_data:\n",
    "#     print(point)\n",
    "#     print(calc_normal_vectors(point))\n",
    "#     break"
   ]
  },
  {
   "cell_type": "code",
   "execution_count": null,
   "id": "0b8c68ad",
   "metadata": {},
   "outputs": [],
   "source": []
  }
 ],
 "metadata": {
  "kernelspec": {
   "display_name": "Python 3 (ipykernel)",
   "language": "python",
   "name": "python3"
  },
  "language_info": {
   "codemirror_mode": {
    "name": "ipython",
    "version": 3
   },
   "file_extension": ".py",
   "mimetype": "text/x-python",
   "name": "python",
   "nbconvert_exporter": "python",
   "pygments_lexer": "ipython3",
   "version": "3.9.7"
  }
 },
 "nbformat": 4,
 "nbformat_minor": 5
}
